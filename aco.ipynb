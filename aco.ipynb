{
 "cells": [
  {
   "cell_type": "markdown",
   "metadata": {},
   "source": [
    "## Ant Colony Optimization Algorithm \n",
    "#### *Object Replacement and Update Pheromones Variant*\n",
    "An object CAN'T be selected twice in a single partial solution"
   ]
  },
  {
   "cell_type": "code",
   "execution_count": 329,
   "metadata": {},
   "outputs": [],
   "source": [
    "import numpy as np\n",
    "from anpy.Ant import Ant\n",
    "import pandas as pd\n",
    "from anpy.AntFactory import AntFactory\n",
    "from anpy.support import random_selection\n",
    "from anpy.Neighborhood import Neighborhood\n",
    "\n",
    "pd.set_option('display.max_rows', 1500)\n",
    "pd.set_option('display.max_columns', 1500)\n",
    "pd.set_option('display.width', 1000)\n",
    "\n",
    "# Actual Execution has to be with:\n",
    "# 10 ANTS | 100 ITERATIONS\n",
    "ITERATIONS = 100\n",
    "ANTS_NUMS = 10\n",
    "KNAPSACK_CAPACITY = 750 # Total Knapsack load capacity\n",
    "\n",
    "best_ant_iteration = pd.DataFrame(columns=\n",
    "    ['Iteration',\n",
    "    'Ant ID',\n",
    "    'Partial Solution (S)',\n",
    "    'Profit (Z)',\n",
    "    'Capacity (V)'])\n",
    "worst_ant_iteration = pd.DataFrame(columns=\n",
    "    ['Iteration',\n",
    "    'Ant ID',\n",
    "    'Partial Solution (S)',\n",
    "    'Profit (Z)',\n",
    "    'Capacity (V)'])\n",
    "best_ant_run = pd.DataFrame(columns=\n",
    "    ['Ant ID',\n",
    "    'Partial Solution (S)',\n",
    "    'Profit (Z)',\n",
    "    'Capacity (V)'])\n",
    "worst_ant_run = pd.DataFrame(columns=\n",
    "    ['Ant ID',\n",
    "    'Partial Solution (S)',\n",
    "    'Profit (Z)',\n",
    "    'Capacity (V)'])"
   ]
  },
  {
   "cell_type": "code",
   "execution_count": 330,
   "metadata": {},
   "outputs": [],
   "source": [
    "def setup_neighborhood():\n",
    "    # Create Neighborhood\n",
    "    N1 = Neighborhood(ANTS_NUMS)\n",
    "    \n",
    "    # Set Neighborhood's Weights & Profits\n",
    "    N1.set_weights(\"weights.txt\")\n",
    "    N1.set_profits(\"profits.txt\")\n",
    "    N = N1.generate_neighborhood()\n",
    "    N1.set_neighborhood(N)\n",
    "    return N1\n",
    "\n",
    "def get_best_ant_iter(iteration:int, ant:Ant):\n",
    "    best_ant_iteration.loc[iteration] = [iteration,\n",
    "        ant.id,                \n",
    "        ant.s,\n",
    "        ant.z,\n",
    "        np.sum(ant.s)]\n",
    "def get_worst_ant_iter(iteration:int, ant:Ant):\n",
    "    worst_ant_iteration.loc[iteration] = [iteration,\n",
    "        ant.id,                \n",
    "        ant.s,\n",
    "        ant.z,\n",
    "        np.sum(ant.s)]"
   ]
  },
  {
   "cell_type": "code",
   "execution_count": 331,
   "metadata": {},
   "outputs": [],
   "source": [
    "def aco():\n",
    "    global_best_ant = AntFactory.create(0)\n",
    "    N = setup_neighborhood()\n",
    "    for iter in range(1, ITERATIONS+1):\n",
    "        iter_best_ant = AntFactory.create(0)\n",
    "        i = 0\n",
    "        N.set_ants(ANTS_NUMS)     \n",
    "        while i < len(N.ants):\n",
    "            random_ant = N.ants[np.random.randint(0,len(N.ants))]\n",
    "            Vc = KNAPSACK_CAPACITY; \n",
    "            N.set_neighborhood(N.current_N)\n",
    "            while not random_ant.hasWorked:\n",
    "                available_objects = N.get_available_objects(Vc)\n",
    "                if len(available_objects) == 0: random_ant.hasWorked = True; i += 1; break\n",
    "                objects_probs = N.get_object_probs(available_objects)\n",
    "                object = random_selection(available_objects, objects_probs)\n",
    "                random_ant.add_object(object)\n",
    "                N.update_N(object)\n",
    "                Vc -= object.weight\n",
    "            if random_ant.z > iter_best_ant.z: iter_best_ant = random_ant\n",
    "        if iter_best_ant.z > global_best_ant.z: global_best_ant = iter_best_ant\n",
    "        ants_profits = [ant.z for ant in N.ants]    \n",
    "        get_best_ant_iter(iter, N.ants[np.argmax(ants_profits)])\n",
    "        get_worst_ant_iter(iter, N.ants[np.argmin(ants_profits)])\n",
    "        N.evaporation_mechanism()\n",
    "        N.set_neighborhood(N.update_pheromones(random_ant, global_best_ant))\n",
    "    return global_best_ant      \n"
   ]
  },
  {
   "cell_type": "code",
   "execution_count": 332,
   "metadata": {},
   "outputs": [
    {
     "name": "stdout",
     "output_type": "stream",
     "text": [
      "\u001b[1mBest Ant From Execution:\u001b[0m\n",
      " \tITERATIONS: 100 | ANTS: 10\n"
     ]
    },
    {
     "data": {
      "text/html": [
       "<div>\n",
       "<style scoped>\n",
       "    .dataframe tbody tr th:only-of-type {\n",
       "        vertical-align: middle;\n",
       "    }\n",
       "\n",
       "    .dataframe tbody tr th {\n",
       "        vertical-align: top;\n",
       "    }\n",
       "\n",
       "    .dataframe thead th {\n",
       "        text-align: right;\n",
       "    }\n",
       "</style>\n",
       "<table border=\"1\" class=\"dataframe\">\n",
       "  <thead>\n",
       "    <tr style=\"text-align: right;\">\n",
       "      <th></th>\n",
       "      <th>Ant ID</th>\n",
       "      <th>S (Solution)</th>\n",
       "      <th>Z (Profit)</th>\n",
       "      <th>V (Capacity)</th>\n",
       "    </tr>\n",
       "  </thead>\n",
       "  <tbody>\n",
       "    <tr>\n",
       "      <th>1</th>\n",
       "      <td>3</td>\n",
       "      <td>[90, 77, 98, 80, 94, 120, 118, 70]</td>\n",
       "      <td>1452</td>\n",
       "      <td>747</td>\n",
       "    </tr>\n",
       "  </tbody>\n",
       "</table>\n",
       "</div>"
      ],
      "text/plain": [
       "   Ant ID                        S (Solution)  Z (Profit)  V (Capacity)\n",
       "1       3  [90, 77, 98, 80, 94, 120, 118, 70]        1452           747"
      ]
     },
     "execution_count": 332,
     "metadata": {},
     "output_type": "execute_result"
    }
   ],
   "source": [
    "best_ant = aco()\n",
    "best_ant_data = pd.DataFrame(columns=['Ant ID', 'S (Solution)', 'Z (Profit)', 'V (Capacity)'])\n",
    "best_ant_data.loc['1'] = [best_ant.id, best_ant.s, best_ant.z, sum(best_ant.s)]\n",
    "print(\"\\033[1mBest Ant From Execution:\\033[0m\\n \\tITERATIONS: 100 | ANTS: 10\")\n",
    "best_ant_data"
   ]
  },
  {
   "cell_type": "code",
   "execution_count": 333,
   "metadata": {},
   "outputs": [],
   "source": [
    "# Display Iteration's Best Ant\n",
    "# best_ant_iteration.set_index('Iteration', inplace=True)\n",
    "# best_ant_iteration"
   ]
  },
  {
   "cell_type": "code",
   "execution_count": 334,
   "metadata": {},
   "outputs": [],
   "source": [
    "# Display Iteration's Worst Ant\n",
    "# worst_ant_iteration.set_index('Iteration', inplace=True)\n",
    "# worst_ant_iteration"
   ]
  },
  {
   "cell_type": "code",
   "execution_count": 335,
   "metadata": {},
   "outputs": [
    {
     "data": {
      "text/html": [
       "<div>\n",
       "<style scoped>\n",
       "    .dataframe tbody tr th:only-of-type {\n",
       "        vertical-align: middle;\n",
       "    }\n",
       "\n",
       "    .dataframe tbody tr th {\n",
       "        vertical-align: top;\n",
       "    }\n",
       "\n",
       "    .dataframe thead th {\n",
       "        text-align: right;\n",
       "    }\n",
       "</style>\n",
       "<table border=\"1\" class=\"dataframe\">\n",
       "  <thead>\n",
       "    <tr style=\"text-align: right;\">\n",
       "      <th></th>\n",
       "      <th>Ant ID</th>\n",
       "      <th>Partial Solution (S)</th>\n",
       "      <th>Profit (Z)</th>\n",
       "      <th>Capacity (V)</th>\n",
       "    </tr>\n",
       "  </thead>\n",
       "  <tbody>\n",
       "    <tr>\n",
       "      <th>1</th>\n",
       "      <td>3</td>\n",
       "      <td>[90, 77, 98, 80, 94, 120, 118, 70]</td>\n",
       "      <td>1452</td>\n",
       "      <td>747</td>\n",
       "    </tr>\n",
       "  </tbody>\n",
       "</table>\n",
       "</div>"
      ],
      "text/plain": [
       "  Ant ID                Partial Solution (S) Profit (Z) Capacity (V)\n",
       "1      3  [90, 77, 98, 80, 94, 120, 118, 70]       1452          747"
      ]
     },
     "execution_count": 335,
     "metadata": {},
     "output_type": "execute_result"
    }
   ],
   "source": [
    "# Get Run's Best Ant\n",
    "best_ant_run.loc[1] = best_ant_iteration.loc[np.argmax(best_ant_iteration['Profit (Z)'])+1]\n",
    "best_ant_run"
   ]
  },
  {
   "cell_type": "code",
   "execution_count": 336,
   "metadata": {},
   "outputs": [
    {
     "data": {
      "text/html": [
       "<div>\n",
       "<style scoped>\n",
       "    .dataframe tbody tr th:only-of-type {\n",
       "        vertical-align: middle;\n",
       "    }\n",
       "\n",
       "    .dataframe tbody tr th {\n",
       "        vertical-align: top;\n",
       "    }\n",
       "\n",
       "    .dataframe thead th {\n",
       "        text-align: right;\n",
       "    }\n",
       "</style>\n",
       "<table border=\"1\" class=\"dataframe\">\n",
       "  <thead>\n",
       "    <tr style=\"text-align: right;\">\n",
       "      <th></th>\n",
       "      <th>Ant ID</th>\n",
       "      <th>Partial Solution (S)</th>\n",
       "      <th>Profit (Z)</th>\n",
       "      <th>Capacity (V)</th>\n",
       "    </tr>\n",
       "  </thead>\n",
       "  <tbody>\n",
       "    <tr>\n",
       "      <th>1</th>\n",
       "      <td>6</td>\n",
       "      <td>[73, 82, 87, 77, 94, 70, 90, 80]</td>\n",
       "      <td>1249</td>\n",
       "      <td>653</td>\n",
       "    </tr>\n",
       "  </tbody>\n",
       "</table>\n",
       "</div>"
      ],
      "text/plain": [
       "  Ant ID              Partial Solution (S) Profit (Z) Capacity (V)\n",
       "1      6  [73, 82, 87, 77, 94, 70, 90, 80]       1249          653"
      ]
     },
     "execution_count": 336,
     "metadata": {},
     "output_type": "execute_result"
    }
   ],
   "source": [
    "# Get Run's Worst Ant\n",
    "worst_ant_run.loc[1] = worst_ant_iteration.loc[np.argmin(worst_ant_iteration['Profit (Z)'])+1]\n",
    "worst_ant_run"
   ]
  }
 ],
 "metadata": {
  "kernelspec": {
   "display_name": "venv",
   "language": "python",
   "name": "python3"
  },
  "language_info": {
   "codemirror_mode": {
    "name": "ipython",
    "version": 3
   },
   "file_extension": ".py",
   "mimetype": "text/x-python",
   "name": "python",
   "nbconvert_exporter": "python",
   "pygments_lexer": "ipython3",
   "version": "3.11.5"
  }
 },
 "nbformat": 4,
 "nbformat_minor": 2
}
