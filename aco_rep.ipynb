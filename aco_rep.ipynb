{
 "cells": [
  {
   "cell_type": "markdown",
   "metadata": {},
   "source": [
    "## Ant Colony Optimization Algorithm\n",
    "#### *Object Replacement Variant*\n",
    "An object CAN be selected twice in a single partial solution"
   ]
  },
  {
   "cell_type": "code",
   "execution_count": 169,
   "metadata": {},
   "outputs": [],
   "source": [
    "import numpy as np\n",
    "from anpy.Ant import Ant\n",
    "import pandas as pd\n",
    "from anpy.support import random_index_selection\n",
    "from anpy.Neighborhood import Neighborhood\n",
    "\n",
    "pd.set_option('display.max_rows', 1500)\n",
    "pd.set_option('display.max_columns', 1500)\n",
    "pd.set_option('display.width', 1000)\n",
    "\n",
    "ITERATIONS = 1000\n",
    "ANTS_NUMS = 100\n",
    "KNAPSACK_CAPACITY = 750 # Total Knapsack load capacity\n",
    "EVA_RATE = 0.5 # Evaporation Rate\n",
    "ALPHA = 1\n",
    "BETA = 2\n",
    "PHEROMONE = 1.0 # (Tau) Amount of pheromones deposited on all objects when a solution has been found\n",
    "\n",
    "nor = {\n",
    "    'ALPHA' : ALPHA,\n",
    "    'BETA' : BETA,\n",
    "    'PHEROMONE' : PHEROMONE,\n",
    "    'EVA_RATE' : EVA_RATE\n",
    "}\n",
    "\n",
    "best_ant_iteration = pd.DataFrame(columns=\n",
    "    ['Iteration',\n",
    "    'Ant ID',\n",
    "    'Partial Solution (S)',\n",
    "    'Profit (Z)',\n",
    "    'Capacity (V)'])\n",
    "worst_ant_iteration = pd.DataFrame(columns=\n",
    "    ['Iteration',\n",
    "    'Ant ID',\n",
    "    'Partial Solution (S)',\n",
    "    'Profit (Z)',\n",
    "    'Capacity (V)'])\n",
    "best_ant_run = pd.DataFrame(columns=\n",
    "    ['Ant ID',\n",
    "    'Partial Solution (S)',\n",
    "    'Profit (Z)',\n",
    "    'Capacity (V)'])\n",
    "worst_ant_run = pd.DataFrame(columns=\n",
    "    ['Ant ID',\n",
    "    'Partial Solution (S)',\n",
    "    'Profit (Z)',\n",
    "    'Capacity (V)'])"
   ]
  },
  {
   "cell_type": "code",
   "execution_count": 170,
   "metadata": {},
   "outputs": [],
   "source": [
    "def setup_neighborhood() -> Neighborhood:\n",
    "    # Create Neighborhood\n",
    "    N1 = Neighborhood(ANTS_NUMS)\n",
    "    \n",
    "    # Set Neighborhood's Weights & Profits\n",
    "    N1.set_weights(\"weights.txt\")\n",
    "    N1.set_profits(\"profits.txt\")\n",
    "    N = N1.generate_neighborhood()\n",
    "    N1.set_neighborhood(N) \n",
    "    return N1  \n",
    "\n",
    "def get_best_ant_iter(iteration:int, ant:Ant):\n",
    "    best_ant_iteration.loc[iteration] = [iteration,\n",
    "        ant.id,                \n",
    "        ant.s,\n",
    "        ant.z,\n",
    "        np.sum(ant.s)]\n",
    "    \n",
    "def get_worst_ant_iter(iteration:int, ant:Ant):\n",
    "    worst_ant_iteration.loc[iteration] = [iteration,\n",
    "        ant.id,                \n",
    "        ant.s,\n",
    "        ant.z,\n",
    "        np.sum(ant.s)]"
   ]
  },
  {
   "cell_type": "code",
   "execution_count": 171,
   "metadata": {},
   "outputs": [],
   "source": [
    "def aco():\n",
    "    for iter in range(1, ITERATIONS+1):\n",
    "        N = setup_neighborhood()\n",
    "        i = 0\n",
    "        while i < len(N.ants):\n",
    "            random_ant = N.ants[np.random.randint(0,len(N.ants))]\n",
    "            Vc = KNAPSACK_CAPACITY\n",
    "            while not random_ant.hasWorked:\n",
    "                objects_probs = N.get_object_prob()\n",
    "                object_idx = random_index_selection(N.weights, objects_probs)\n",
    "                obj_weight = N.weights[object_idx]\n",
    "                if Vc - obj_weight <= 0: random_ant.hasWorked = True;i += 1;break\n",
    "                random_ant.add_weight_and_value(obj_weight, N.values[object_idx])\n",
    "                Vc -= obj_weight\n",
    "        ants_profits = [ant.z for ant in N.ants]    \n",
    "        get_best_ant_iter(iter, N.ants[np.argmax(ants_profits)])\n",
    "        get_worst_ant_iter(iter, N.ants[np.argmin(ants_profits)])"
   ]
  },
  {
   "cell_type": "code",
   "execution_count": 172,
   "metadata": {},
   "outputs": [],
   "source": [
    "# Get solutions from each cycle\n",
    "aco()"
   ]
  },
  {
   "cell_type": "code",
   "execution_count": 173,
   "metadata": {},
   "outputs": [],
   "source": [
    "# Display Iteration's Best Ant\n",
    "# best_ant_iteration.set_index('Iteration', inplace=True)\n",
    "# best_ant_iteration"
   ]
  },
  {
   "cell_type": "code",
   "execution_count": 174,
   "metadata": {},
   "outputs": [],
   "source": [
    "# Display Iteration's Worst Ant\n",
    "# worst_ant_iteration.set_index('Iteration', inplace=True)\n",
    "# worst_ant_iteration"
   ]
  },
  {
   "cell_type": "code",
   "execution_count": 175,
   "metadata": {},
   "outputs": [
    {
     "data": {
      "text/html": [
       "<div>\n",
       "<style scoped>\n",
       "    .dataframe tbody tr th:only-of-type {\n",
       "        vertical-align: middle;\n",
       "    }\n",
       "\n",
       "    .dataframe tbody tr th {\n",
       "        vertical-align: top;\n",
       "    }\n",
       "\n",
       "    .dataframe thead th {\n",
       "        text-align: right;\n",
       "    }\n",
       "</style>\n",
       "<table border=\"1\" class=\"dataframe\">\n",
       "  <thead>\n",
       "    <tr style=\"text-align: right;\">\n",
       "      <th></th>\n",
       "      <th>Ant ID</th>\n",
       "      <th>Partial Solution (S)</th>\n",
       "      <th>Profit (Z)</th>\n",
       "      <th>Capacity (V)</th>\n",
       "    </tr>\n",
       "  </thead>\n",
       "  <tbody>\n",
       "    <tr>\n",
       "      <th>1</th>\n",
       "      <td>3</td>\n",
       "      <td>[73, 73, 120, 98, 118, 70, 120, 77]</td>\n",
       "      <td>1463</td>\n",
       "      <td>749</td>\n",
       "    </tr>\n",
       "  </tbody>\n",
       "</table>\n",
       "</div>"
      ],
      "text/plain": [
       "  Ant ID                 Partial Solution (S) Profit (Z) Capacity (V)\n",
       "1      3  [73, 73, 120, 98, 118, 70, 120, 77]       1463          749"
      ]
     },
     "execution_count": 175,
     "metadata": {},
     "output_type": "execute_result"
    }
   ],
   "source": [
    "# Get Run's Best Ant\n",
    "best_ant_run.loc[1] = best_ant_iteration.loc[np.argmax(best_ant_iteration['Profit (Z)'])+1]\n",
    "best_ant_run"
   ]
  },
  {
   "cell_type": "code",
   "execution_count": 176,
   "metadata": {},
   "outputs": [
    {
     "data": {
      "text/html": [
       "<div>\n",
       "<style scoped>\n",
       "    .dataframe tbody tr th:only-of-type {\n",
       "        vertical-align: middle;\n",
       "    }\n",
       "\n",
       "    .dataframe tbody tr th {\n",
       "        vertical-align: top;\n",
       "    }\n",
       "\n",
       "    .dataframe thead th {\n",
       "        text-align: right;\n",
       "    }\n",
       "</style>\n",
       "<table border=\"1\" class=\"dataframe\">\n",
       "  <thead>\n",
       "    <tr style=\"text-align: right;\">\n",
       "      <th></th>\n",
       "      <th>Ant ID</th>\n",
       "      <th>Partial Solution (S)</th>\n",
       "      <th>Profit (Z)</th>\n",
       "      <th>Capacity (V)</th>\n",
       "    </tr>\n",
       "  </thead>\n",
       "  <tbody>\n",
       "    <tr>\n",
       "      <th>1</th>\n",
       "      <td>2</td>\n",
       "      <td>[87, 80, 80, 110, 118, 82, 77]</td>\n",
       "      <td>1207</td>\n",
       "      <td>634</td>\n",
       "    </tr>\n",
       "  </tbody>\n",
       "</table>\n",
       "</div>"
      ],
      "text/plain": [
       "  Ant ID            Partial Solution (S) Profit (Z) Capacity (V)\n",
       "1      2  [87, 80, 80, 110, 118, 82, 77]       1207          634"
      ]
     },
     "execution_count": 176,
     "metadata": {},
     "output_type": "execute_result"
    }
   ],
   "source": [
    "# Get Run's Worst Ant\n",
    "worst_ant_run.loc[1] = worst_ant_iteration.loc[np.argmin(worst_ant_iteration['Profit (Z)'])+1]\n",
    "worst_ant_run"
   ]
  }
 ],
 "metadata": {
  "kernelspec": {
   "display_name": "venv",
   "language": "python",
   "name": "python3"
  },
  "language_info": {
   "codemirror_mode": {
    "name": "ipython",
    "version": 3
   },
   "file_extension": ".py",
   "mimetype": "text/x-python",
   "name": "python",
   "nbconvert_exporter": "python",
   "pygments_lexer": "ipython3",
   "version": "3.11.5"
  }
 },
 "nbformat": 4,
 "nbformat_minor": 2
}
